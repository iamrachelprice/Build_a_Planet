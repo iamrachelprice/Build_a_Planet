{
  "cells": [
    {
      "cell_type": "markdown",
      "source": [
        "# **Build-a-Planet**\n",
        "\n",
        "Division of Project:\n",
        "* Code Lead: Rachel Price\n",
        "* Report Lead: Ethan Johnson\n",
        "* Presentation Lead: Malachi Roark\n",
        "\n",
        "Throughout this notebook, we will use ExoPlex to calculate a planet’s possible density and structure. Calculate planet structures from mass-proportions and compare to known stellar values. We will then place the structure and composition of our planet in context of mineral proportions and orbital parameters."
      ],
      "metadata": {
        "id": "-4RGp6xnz8el"
      }
    },
    {
      "cell_type": "markdown",
      "source": [
        "## **Importing ExoPlex**"
      ],
      "metadata": {
        "id": "NGAuu74dpSWj"
      }
    },
    {
      "cell_type": "code",
      "execution_count": 1,
      "metadata": {
        "colab": {
          "base_uri": "https://localhost:8080/"
        },
        "id": "xUMfmQOuy4HX",
        "outputId": "cca35560-179c-4047-f2a7-6e50da860956"
      },
      "outputs": [
        {
          "output_type": "stream",
          "name": "stdout",
          "text": [
            "Mounted at /content/drive\n"
          ]
        }
      ],
      "source": [
        "from google.colab import drive\n",
        "drive.mount('/content/drive', force_remount=True)"
      ]
    },
    {
      "cell_type": "code",
      "execution_count": 2,
      "metadata": {
        "colab": {
          "base_uri": "https://localhost:8080/"
        },
        "id": "j9hR-fMozArj",
        "outputId": "805fef73-42aa-4437-d79c-b90afea1978d"
      },
      "outputs": [
        {
          "output_type": "stream",
          "name": "stdout",
          "text": [
            "/content/drive/.shortcut-targets-by-id/1CklpevfgBa21F5mnzM59y_7t9YrIFMED/ExoPlex_dist\n"
          ]
        }
      ],
      "source": [
        "cd /content/drive/MyDrive/ExoPlex_dist/"
      ]
    },
    {
      "cell_type": "code",
      "execution_count": 3,
      "metadata": {
        "colab": {
          "base_uri": "https://localhost:8080/"
        },
        "id": "zmzxM2ZxzSYt",
        "outputId": "bcd08478-2214-4d49-d29f-d9f70d88fc29"
      },
      "outputs": [
        {
          "output_type": "stream",
          "name": "stdout",
          "text": [
            "/content/drive/.shortcut-targets-by-id/1CklpevfgBa21F5mnzM59y_7t9YrIFMED/ExoPlex_dist/Group_7\n"
          ]
        }
      ],
      "source": [
        "cd Group_7/"
      ]
    },
    {
      "cell_type": "code",
      "execution_count": 4,
      "metadata": {
        "colab": {
          "base_uri": "https://localhost:8080/"
        },
        "id": "3GyFTBTzevJR",
        "outputId": "498b1700-b805-4de9-a994-d8d264af25ac"
      },
      "outputs": [
        {
          "output_type": "stream",
          "name": "stdout",
          "text": [
            "total 3561\n",
            "-rw------- 1 root root   6573 Mar 17  2021  single_phase.py\n",
            "-rw------- 1 root root   9053 Mar 17  2021  MR_Trappist.py\n",
            "-rw------- 1 root root   6888 Mar 17  2021  example_by_radius.py\n",
            "-rw------- 1 root root   6476 Mar 17  2021  example_by_mass.py\n",
            "-rw------- 1 root root    500 Mar 17  2021  build.log\n",
            "-rw------- 1 root root      0 Apr  9  2022  1,1_0,8_0,07_0,09_0,01_0,0_MANTLE.dat\n",
            "-rw------- 1 root root  64852 Mar 16 20:06 'CRF(1).png'\n",
            "-rw------- 1 root root   7533 Mar 16 20:55  Group_X.py\n",
            "-rw------- 1 root root 267846 Mar 29 00:56  high_wFEO_Radius_0.97.tsv\n",
            "-rw------- 1 root root 267720 Mar 29 00:58  high_wFEO_Radius_1.18.tsv\n",
            "-rw------- 1 root root 266547 Apr  1 19:29  high_wFEO_Radius_0.52.tsv\n",
            "-rw------- 1 root root 266261 Apr  1 19:29  high_wFEO_Radius_0.42.tsv\n",
            "-rw------- 1 root root 266853 Apr  1 19:29  high_wFEO_Radius_1.08.tsv\n",
            "-rw------- 1 root root 265431 Apr  1 19:29  high_wFEO_Radius_0.79.tsv\n",
            "-rw------- 1 root root 267431 Apr  1 19:30  high_wFEO_Radius_1.01.tsv\n",
            "-rw------- 1 root root 267586 Apr  1 19:30  high_wFEO_Radius_1.00.tsv\n",
            "-rw------- 1 root root 267906 Apr  1 19:31  high_wFEO_Radius_1.02.tsv\n",
            "-rw------- 1 root root 267572 Apr  1 19:35  high_wFEO_Radius_1.10.tsv\n",
            "-rw------- 1 root root 267867 Apr  1 19:37  high_wFEO_Radius_0.99.tsv\n",
            "-rw------- 1 root root 267944 Apr  1 19:40  high_wFEO_Radius_1.05.tsv\n",
            "-rw------- 1 root root 267500 Apr  3 17:56  high_wFEO_Radius_1.06.tsv\n",
            "-rw------- 1 root root  64852 Apr  3 17:56  CRF.png\n"
          ]
        }
      ],
      "source": [
        "!ls -lrt"
      ]
    },
    {
      "cell_type": "markdown",
      "source": [
        "## **Warm Up**"
      ],
      "metadata": {
        "id": "BuWceqs5pbwa"
      }
    },
    {
      "cell_type": "markdown",
      "source": [
        "### **Question 1**\n",
        "\n",
        "Calculate the radius of the Earth, Mars, and Mercury given the mass of each planet and using the Sun’s proportions of Fe, Mg, and Si. Compare these values with the actual planets' values.\n",
        "\n",
        "ExoPlex uses Solar compositions as its default (Defaults: Ca/Mg = 0.07; Si/Mg=0.9; Al/Mg = 0.09; Fe/Mg = 0.9)."
      ],
      "metadata": {
        "id": "l0DT9Dv7pgaw"
      }
    },
    {
      "cell_type": "markdown",
      "source": [
        "**Calculating Earth Radius**"
      ],
      "metadata": {
        "id": "ZWlSiyPXpzKj"
      }
    },
    {
      "cell_type": "code",
      "source": [
        "!python Group_X.py --mass=1  # Earth"
      ],
      "metadata": {
        "colab": {
          "base_uri": "https://localhost:8080/"
        },
        "id": "iclwef6Po6r4",
        "outputId": "13e8b1fc-5209-4516-a98e-b88976ff45a1"
      },
      "execution_count": 5,
      "outputs": [
        {
          "output_type": "stream",
          "name": "stdout",
          "text": [
            "\n",
            "Core composition:  {'Fe': np.float64(100.0), 'Si': np.float64(0.0), 'O': np.float64(0.0), 'S': np.float64(0.0)}\n",
            "Mantle composition:  {'FeO': np.float64(0.0), 'SiO2': np.float64(52.55497015), 'MgO': np.float64(39.17101638), 'CaO': np.float64(3.81493827), 'Al2O3': np.float64(4.45907521)}\n",
            "Mantle Fe# -0.0\n",
            "Core Mass Percent =  32.816\n",
            "\n",
            "Your closest grid filename is:  0.07CaMg_0.00FeMg_0.09AlMg_0.9SiMg_0.0NaMg_0.00Fe_U/LM_results.txt\n",
            "\n",
            "\n",
            "Core composition:  {'Fe': np.float64(100.0), 'Si': np.float64(0.0), 'O': np.float64(0.0), 'S': np.float64(0.0)}\n",
            "Mantle composition:  {'FeO': np.float64(0.0), 'SiO2': np.float64(52.55497015), 'MgO': np.float64(39.17101638), 'CaO': np.float64(3.81493827), 'Al2O3': np.float64(4.45907521)}\n",
            "Mantle Fe# -0.0\n",
            "Core Mass Percent =  32.816\n",
            "\n",
            "The Upper mantle .tab already exists, please wait briefly for solution\n",
            "\n",
            "../Solutions_Small/0.07CaMg_0.00FeMg_0.09AlMg_0.9SiMg_0.0NaMg_0.00Fe\n",
            "The Lower mantle .tab already exists, please wait briefly for solution\n",
            "\n",
            "iteration # 1\n",
            "iteration # 2\n",
            "iteration # 3\n",
            "iteration # 4\n",
            "iteration # 5\n",
            "iteration # 6\n",
            "iteration # 7\n",
            "iteration # 8\n",
            "iteration # 9\n",
            "iteration # 10\n",
            "iteration # 11\n",
            "iteration # 12\n",
            "iteration # 13\n",
            "iteration # 14\n",
            "iteration # 15\n",
            "\n",
            "Mass =  1.000 Earth masses\n",
            "Radius =  0.999 Earth radii\n",
            "Core Mass Fraction =  32.95\n",
            "Core Radius Fraction =  53.02\n",
            "CMB Pressure =  141.56 GPa\n",
            "number of oceans: 0.00\n",
            "\n",
            "Detailed data file written to: high_wFEO_Radius_1.00.txt\n",
            "\n",
            "Figure(1200x1000)\n"
          ]
        }
      ]
    },
    {
      "cell_type": "markdown",
      "source": [
        "**Calculating Mars Radius**"
      ],
      "metadata": {
        "id": "7ryjGiELrQm0"
      }
    },
    {
      "cell_type": "code",
      "source": [
        "import astropy.constants as const\n",
        "import astropy.units as u\n",
        "\n",
        "# Calculate mass of Mars in M_earth\n",
        "mars_mass_earth = (6.4171e23*u.kg) / const.M_earth\n",
        "print(f'Mass of Mars:',mars_mass_earth,'M_earth')\n",
        "\n",
        "# Calculate radius of Mars in R_earth\n",
        "mars_rad_earth = (3.3895e6*u.m) / const.R_earth\n",
        "print(f'Radius of Mars:',round(mars_rad_earth,3),'R_earth')"
      ],
      "metadata": {
        "colab": {
          "base_uri": "https://localhost:8080/"
        },
        "id": "vfYQbSFopRen",
        "outputId": "afd2f0bb-4c84-4727-dfc6-4d3b5ca385d2"
      },
      "execution_count": 6,
      "outputs": [
        {
          "output_type": "stream",
          "name": "stdout",
          "text": [
            "Mass of Mars: 0.10745009420462197 M_earth\n",
            "Radius of Mars: 0.531 R_earth\n"
          ]
        }
      ]
    },
    {
      "cell_type": "code",
      "source": [
        "!python Group_X.py --mass=0.10745009420462197  # Mars"
      ],
      "metadata": {
        "colab": {
          "base_uri": "https://localhost:8080/"
        },
        "id": "qRpZoEj0q5wA",
        "outputId": "3022f9ad-a6c5-4c1c-a260-2380fe57ad6f"
      },
      "execution_count": 7,
      "outputs": [
        {
          "output_type": "stream",
          "name": "stdout",
          "text": [
            "\n",
            "Core composition:  {'Fe': np.float64(100.0), 'Si': np.float64(0.0), 'O': np.float64(0.0), 'S': np.float64(0.0)}\n",
            "Mantle composition:  {'FeO': np.float64(0.0), 'SiO2': np.float64(52.55497015), 'MgO': np.float64(39.17101638), 'CaO': np.float64(3.81493827), 'Al2O3': np.float64(4.45907521)}\n",
            "Mantle Fe# -0.0\n",
            "Core Mass Percent =  32.816\n",
            "\n",
            "Your closest grid filename is:  0.07CaMg_0.00FeMg_0.09AlMg_0.9SiMg_0.0NaMg_0.00Fe_U/LM_results.txt\n",
            "\n",
            "\n",
            "Core composition:  {'Fe': np.float64(100.0), 'Si': np.float64(0.0), 'O': np.float64(0.0), 'S': np.float64(0.0)}\n",
            "Mantle composition:  {'FeO': np.float64(0.0), 'SiO2': np.float64(52.55497015), 'MgO': np.float64(39.17101638), 'CaO': np.float64(3.81493827), 'Al2O3': np.float64(4.45907521)}\n",
            "Mantle Fe# -0.0\n",
            "Core Mass Percent =  32.816\n",
            "\n",
            "The Upper mantle .tab already exists, please wait briefly for solution\n",
            "\n",
            "../Solutions_Small/0.07CaMg_0.00FeMg_0.09AlMg_0.9SiMg_0.0NaMg_0.00Fe\n",
            "The Lower mantle .tab already exists, please wait briefly for solution\n",
            "\n",
            "iteration # 1\n",
            "iteration # 2\n",
            "iteration # 3\n",
            "iteration # 4\n",
            "iteration # 5\n",
            "iteration # 6\n",
            "iteration # 7\n",
            "iteration # 8\n",
            "iteration # 9\n",
            "iteration # 10\n",
            "iteration # 11\n",
            "\n",
            "Mass =  0.107 Earth masses\n",
            "Radius =  0.520 Earth radii\n",
            "Core Mass Fraction =  32.95\n",
            "Core Radius Fraction =  54.67\n",
            "CMB Pressure =  20.42 GPa\n",
            "number of oceans: 0.00\n",
            "\n",
            "Detailed data file written to: high_wFEO_Radius_0.52.txt\n",
            "\n",
            "Figure(1200x1000)\n"
          ]
        }
      ]
    },
    {
      "cell_type": "markdown",
      "source": [
        "**Calculating Mercury Radius**"
      ],
      "metadata": {
        "id": "8dcpexAcrXPg"
      }
    },
    {
      "cell_type": "code",
      "source": [
        "# Calculate mass of Mercury in M_earth\n",
        "mercury_mass_earth = (3.30104e23*u.kg) / const.M_earth\n",
        "print(f'Mass of Mercury:',mercury_mass_earth,'M_earth')\n",
        "\n",
        "# Calculate radius of Mercury in R_earth\n",
        "mercury_rad_earth = (2.4397e6*u.m) / const.R_earth\n",
        "print(f'Radius of Mercury:',round(mercury_rad_earth,3),'R_earth')"
      ],
      "metadata": {
        "colab": {
          "base_uri": "https://localhost:8080/"
        },
        "id": "hvnNyGWArINU",
        "outputId": "fbb7e35b-2496-4c16-8a62-fa155779d8a3"
      },
      "execution_count": 8,
      "outputs": [
        {
          "output_type": "stream",
          "name": "stdout",
          "text": [
            "Mass of Mercury: 0.055273730964645294 M_earth\n",
            "Radius of Mercury: 0.383 R_earth\n"
          ]
        }
      ]
    },
    {
      "cell_type": "code",
      "source": [
        "!python Group_X.py --mass=0.055273730964645294  # Mercury"
      ],
      "metadata": {
        "colab": {
          "base_uri": "https://localhost:8080/"
        },
        "id": "o8gJ_eTxrhxA",
        "outputId": "912d1a28-0e0b-4305-8662-5f1a3762761c"
      },
      "execution_count": 9,
      "outputs": [
        {
          "output_type": "stream",
          "name": "stdout",
          "text": [
            "\n",
            "Core composition:  {'Fe': np.float64(100.0), 'Si': np.float64(0.0), 'O': np.float64(0.0), 'S': np.float64(0.0)}\n",
            "Mantle composition:  {'FeO': np.float64(0.0), 'SiO2': np.float64(52.55497015), 'MgO': np.float64(39.17101638), 'CaO': np.float64(3.81493827), 'Al2O3': np.float64(4.45907521)}\n",
            "Mantle Fe# -0.0\n",
            "Core Mass Percent =  32.816\n",
            "\n",
            "Your closest grid filename is:  0.07CaMg_0.00FeMg_0.09AlMg_0.9SiMg_0.0NaMg_0.00Fe_U/LM_results.txt\n",
            "\n",
            "\n",
            "Core composition:  {'Fe': np.float64(100.0), 'Si': np.float64(0.0), 'O': np.float64(0.0), 'S': np.float64(0.0)}\n",
            "Mantle composition:  {'FeO': np.float64(0.0), 'SiO2': np.float64(52.55497015), 'MgO': np.float64(39.17101638), 'CaO': np.float64(3.81493827), 'Al2O3': np.float64(4.45907521)}\n",
            "Mantle Fe# -0.0\n",
            "Core Mass Percent =  32.816\n",
            "\n",
            "The Upper mantle .tab already exists, please wait briefly for solution\n",
            "\n",
            "../Solutions_Small/0.07CaMg_0.00FeMg_0.09AlMg_0.9SiMg_0.0NaMg_0.00Fe\n",
            "The Lower mantle .tab already exists, please wait briefly for solution\n",
            "\n",
            "iteration # 1\n",
            "iteration # 2\n",
            "iteration # 3\n",
            "iteration # 4\n",
            "iteration # 5\n",
            "iteration # 6\n",
            "iteration # 7\n",
            "iteration # 8\n",
            "\n",
            "Mass =  0.055 Earth masses\n",
            "Radius =  0.422 Earth radii\n",
            "Core Mass Fraction =  32.95\n",
            "Core Radius Fraction =  55.10\n",
            "CMB Pressure =  12.27 GPa\n",
            "number of oceans: 0.00\n",
            "\n",
            "Detailed data file written to: high_wFEO_Radius_0.42.txt\n",
            "\n",
            "Figure(1200x1000)\n"
          ]
        }
      ]
    },
    {
      "cell_type": "markdown",
      "source": [
        "**Comparing Results to True Values**\n",
        "\n",
        "\n",
        "* *Estimated Earth Radius*: 0.999 Earth radii\n",
        "* *True Earth Radius*: 1.0 Earth radii\n",
        "\n",
        "\n",
        "* *Estimated Mars Radius*: 0.520 Earth radii\n",
        "* *True Mars Radius*: 0.531 Earth radii\n",
        "\n",
        "\n",
        "* *Estimated Mercury Radius*: 0.422 Earth radii\n",
        "* *True Mercury Radius*: 0.383 Earth radii\n",
        "\n",
        "The estimated Earth radius is nearly identical to the true Earth radius (0.999 versus 1.0 Earth radii). The estimated and true Mars radii are nearly identical as well (0.520 versus 0.531 Earth radii). However, the estimated and true Mercury radii are not as similar (0.422 versus 0.383 Earth radii). This could be due to the fact that Mercury is a dense, rocky planet...significantly more dense than Mars, despite the fact that their masses are quite similar. This explains why the program (not designed to take into account the density of planets, only their mass and the composition of their star) did not estimate the radius of Mercury as accurately."
      ],
      "metadata": {
        "id": "MiOXVyBgrvr0"
      }
    },
    {
      "cell_type": "markdown",
      "source": [
        "### **Question 2**\n",
        "\n",
        "Explore what happens to the size of the planet and the planet structure when you adjust the amount of iron relative to Mg."
      ],
      "metadata": {
        "id": "-tCf8aLrvWjB"
      }
    },
    {
      "cell_type": "code",
      "source": [
        "!python Group_X.py  # no adjustment (control)"
      ],
      "metadata": {
        "colab": {
          "base_uri": "https://localhost:8080/"
        },
        "id": "xnLbzjYCw6me",
        "outputId": "c9d715b6-8d7a-4c01-d0ca-2266c47d2598"
      },
      "execution_count": 10,
      "outputs": [
        {
          "output_type": "stream",
          "name": "stdout",
          "text": [
            "\n",
            "Core composition:  {'Fe': np.float64(100.0), 'Si': np.float64(0.0), 'O': np.float64(0.0), 'S': np.float64(0.0)}\n",
            "Mantle composition:  {'FeO': np.float64(0.0), 'SiO2': np.float64(52.55497015), 'MgO': np.float64(39.17101638), 'CaO': np.float64(3.81493827), 'Al2O3': np.float64(4.45907521)}\n",
            "Mantle Fe# -0.0\n",
            "Core Mass Percent =  32.816\n",
            "\n",
            "Your closest grid filename is:  0.07CaMg_0.00FeMg_0.09AlMg_0.9SiMg_0.0NaMg_0.00Fe_U/LM_results.txt\n",
            "\n",
            "\n",
            "Core composition:  {'Fe': np.float64(100.0), 'Si': np.float64(0.0), 'O': np.float64(0.0), 'S': np.float64(0.0)}\n",
            "Mantle composition:  {'FeO': np.float64(0.0), 'SiO2': np.float64(52.55497015), 'MgO': np.float64(39.17101638), 'CaO': np.float64(3.81493827), 'Al2O3': np.float64(4.45907521)}\n",
            "Mantle Fe# -0.0\n",
            "Core Mass Percent =  32.816\n",
            "\n",
            "The Upper mantle .tab already exists, please wait briefly for solution\n",
            "\n",
            "../Solutions_Small/0.07CaMg_0.00FeMg_0.09AlMg_0.9SiMg_0.0NaMg_0.00Fe\n",
            "The Lower mantle .tab already exists, please wait briefly for solution\n",
            "\n",
            "iteration # 1\n",
            "iteration # 2\n",
            "iteration # 3\n",
            "iteration # 4\n",
            "iteration # 5\n",
            "iteration # 6\n",
            "iteration # 7\n",
            "iteration # 8\n",
            "iteration # 9\n",
            "iteration # 10\n",
            "iteration # 11\n",
            "iteration # 12\n",
            "iteration # 13\n",
            "iteration # 14\n",
            "iteration # 15\n",
            "\n",
            "Mass =  1.000 Earth masses\n",
            "Radius =  0.999 Earth radii\n",
            "Core Mass Fraction =  32.95\n",
            "Core Radius Fraction =  53.02\n",
            "CMB Pressure =  141.56 GPa\n",
            "number of oceans: 0.00\n",
            "\n",
            "Detailed data file written to: high_wFEO_Radius_1.00.txt\n",
            "\n",
            "Figure(1200x1000)\n"
          ]
        }
      ]
    },
    {
      "cell_type": "code",
      "source": [
        "!python Group_X.py --FeMg=1  # equal quantities"
      ],
      "metadata": {
        "colab": {
          "base_uri": "https://localhost:8080/"
        },
        "id": "UrvPWmxstSjb",
        "outputId": "7f89857e-7a5e-4274-b102-2564b498afd0"
      },
      "execution_count": 11,
      "outputs": [
        {
          "output_type": "stream",
          "name": "stdout",
          "text": [
            "\n",
            "Core composition:  {'Fe': np.float64(100.0), 'Si': np.float64(0.0), 'O': np.float64(0.0), 'S': np.float64(0.0)}\n",
            "Mantle composition:  {'FeO': np.float64(0.0), 'SiO2': np.float64(52.55497015), 'MgO': np.float64(39.17101638), 'CaO': np.float64(3.81493827), 'Al2O3': np.float64(4.45907521)}\n",
            "Mantle Fe# -0.0\n",
            "Core Mass Percent =  35.180\n",
            "\n",
            "Your closest grid filename is:  0.07CaMg_0.00FeMg_0.09AlMg_0.9SiMg_0.0NaMg_0.00Fe_U/LM_results.txt\n",
            "\n",
            "\n",
            "Core composition:  {'Fe': np.float64(100.0), 'Si': np.float64(0.0), 'O': np.float64(0.0), 'S': np.float64(0.0)}\n",
            "Mantle composition:  {'FeO': np.float64(0.0), 'SiO2': np.float64(52.55497015), 'MgO': np.float64(39.17101638), 'CaO': np.float64(3.81493827), 'Al2O3': np.float64(4.45907521)}\n",
            "Mantle Fe# -0.0\n",
            "Core Mass Percent =  35.180\n",
            "\n",
            "The Upper mantle .tab already exists, please wait briefly for solution\n",
            "\n",
            "../Solutions_Small/0.07CaMg_0.00FeMg_0.09AlMg_0.9SiMg_0.0NaMg_0.00Fe\n",
            "The Lower mantle .tab already exists, please wait briefly for solution\n",
            "\n",
            "iteration # 1\n",
            "iteration # 2\n",
            "iteration # 3\n",
            "iteration # 4\n",
            "iteration # 5\n",
            "iteration # 6\n",
            "iteration # 7\n",
            "iteration # 8\n",
            "iteration # 9\n",
            "iteration # 10\n",
            "iteration # 11\n",
            "iteration # 12\n",
            "iteration # 13\n",
            "iteration # 14\n",
            "iteration # 15\n",
            "\n",
            "Mass =  1.000 Earth masses\n",
            "Radius =  0.993 Earth radii\n",
            "Core Mass Fraction =  35.31\n",
            "Core Radius Fraction =  54.56\n",
            "CMB Pressure =  138.47 GPa\n",
            "number of oceans: 0.00\n",
            "\n",
            "Detailed data file written to: high_wFEO_Radius_0.99.txt\n",
            "\n",
            "Figure(1200x1000)\n"
          ]
        }
      ]
    },
    {
      "cell_type": "code",
      "source": [
        "!python Group_X.py --FeMg=1e-6  # very little Fe"
      ],
      "metadata": {
        "colab": {
          "base_uri": "https://localhost:8080/"
        },
        "id": "uxYE1fZywDkC",
        "outputId": "cea605ac-a44b-435a-a7b4-0d26dda2fce0"
      },
      "execution_count": 12,
      "outputs": [
        {
          "output_type": "stream",
          "name": "stdout",
          "text": [
            "\n",
            "Core composition:  {'Fe': np.float64(100.0), 'Si': np.float64(0.0), 'O': np.float64(0.0), 'S': np.float64(0.0)}\n",
            "Mantle composition:  {'FeO': np.float64(0.0), 'SiO2': np.float64(52.55497015), 'MgO': np.float64(39.17101638), 'CaO': np.float64(3.81493827), 'Al2O3': np.float64(4.45907521)}\n",
            "Mantle Fe# -0.0\n",
            "Core Mass Percent =  0.000\n",
            "\n",
            "Your closest grid filename is:  0.07CaMg_0.00FeMg_0.09AlMg_0.9SiMg_0.0NaMg_0.00Fe_U/LM_results.txt\n",
            "\n",
            "\n",
            "Core composition:  {'Fe': np.float64(100.0), 'Si': np.float64(0.0), 'O': np.float64(0.0), 'S': np.float64(0.0)}\n",
            "Mantle composition:  {'FeO': np.float64(0.0), 'SiO2': np.float64(52.55497015), 'MgO': np.float64(39.17101638), 'CaO': np.float64(3.81493827), 'Al2O3': np.float64(4.45907521)}\n",
            "Mantle Fe# -0.0\n",
            "Core Mass Percent =  0.000\n",
            "\n",
            "The Upper mantle .tab already exists, please wait briefly for solution\n",
            "\n",
            "../Solutions_Small/0.07CaMg_0.00FeMg_0.09AlMg_0.9SiMg_0.0NaMg_0.00Fe\n",
            "The Lower mantle .tab already exists, please wait briefly for solution\n",
            "\n",
            "iteration # 1\n",
            "iteration # 2\n",
            "iteration # 3\n",
            "iteration # 4\n",
            "iteration # 5\n",
            "iteration # 6\n",
            "iteration # 7\n",
            "iteration # 8\n",
            "iteration # 9\n",
            "iteration # 10\n",
            "iteration # 11\n",
            "iteration # 12\n",
            "iteration # 13\n",
            "iteration # 14\n",
            "\n",
            "Mass =  1.000 Earth masses\n",
            "Radius =  1.078 Earth radii\n",
            "Core Mass Fraction =  0.20\n",
            "Core Radius Fraction =  11.65\n",
            "CMB Pressure =  149.43 GPa\n",
            "number of oceans: 0.00\n",
            "\n",
            "Detailed data file written to: high_wFEO_Radius_1.08.txt\n",
            "\n",
            "Figure(1200x1000)\n"
          ]
        }
      ]
    },
    {
      "cell_type": "code",
      "source": [
        "!python Group_X.py --FeMg=1e6  # very little Mg"
      ],
      "metadata": {
        "colab": {
          "base_uri": "https://localhost:8080/"
        },
        "id": "KPEKmh7MwYEX",
        "outputId": "7a0ecd03-6e83-4ecb-f6d9-c27c0bfd4b64"
      },
      "execution_count": 13,
      "outputs": [
        {
          "output_type": "stream",
          "name": "stdout",
          "text": [
            "\n",
            "Core composition:  {'Fe': np.float64(100.0), 'Si': np.float64(0.0), 'O': np.float64(0.0), 'S': np.float64(0.0)}\n",
            "Mantle composition:  {'FeO': np.float64(0.0), 'SiO2': np.float64(52.55497015), 'MgO': np.float64(39.17101638), 'CaO': np.float64(3.81493827), 'Al2O3': np.float64(4.45907521)}\n",
            "Mantle Fe# -0.0\n",
            "Core Mass Percent =  100.000\n",
            "\n",
            "Your closest grid filename is:  0.07CaMg_0.00FeMg_0.09AlMg_0.9SiMg_0.0NaMg_0.00Fe_U/LM_results.txt\n",
            "\n",
            "\n",
            "Core composition:  {'Fe': np.float64(100.0), 'Si': np.float64(0.0), 'O': np.float64(0.0), 'S': np.float64(0.0)}\n",
            "Mantle composition:  {'FeO': np.float64(0.0), 'SiO2': np.float64(52.55497015), 'MgO': np.float64(39.17101638), 'CaO': np.float64(3.81493827), 'Al2O3': np.float64(4.45907521)}\n",
            "Mantle Fe# -0.0\n",
            "Core Mass Percent =  100.000\n",
            "\n",
            "The Upper mantle .tab already exists, please wait briefly for solution\n",
            "\n",
            "../Solutions_Small/0.07CaMg_0.00FeMg_0.09AlMg_0.9SiMg_0.0NaMg_0.00Fe\n",
            "The Lower mantle .tab already exists, please wait briefly for solution\n",
            "\n",
            "iteration # 1\n",
            "iteration # 2\n",
            "iteration # 3\n",
            "iteration # 4\n",
            "iteration # 5\n",
            "iteration # 6\n",
            "iteration # 7\n",
            "iteration # 8\n",
            "iteration # 9\n",
            "iteration # 10\n",
            "iteration # 11\n",
            "iteration # 12\n",
            "iteration # 13\n",
            "iteration # 14\n",
            "iteration # 15\n",
            "\n",
            "Mass =  1.000 Earth masses\n",
            "Radius =  0.793 Earth radii\n",
            "Core Mass Fraction =  100.00\n",
            "Core Radius Fraction =  100.00\n",
            "CMB Pressure =  0.30 GPa\n",
            "number of oceans: 0.00\n",
            "\n",
            "Detailed data file written to: high_wFEO_Radius_0.79.txt\n",
            "\n",
            "Figure(1200x1000)\n"
          ]
        }
      ]
    },
    {
      "cell_type": "markdown",
      "source": [
        "**Adjusting the amount of Fe relative to Mg**\n",
        "\n",
        "Changing the number molar ratio of Fe/Mg of the whole planet appears to have a significant effect on the size and structure of the planet:\n",
        "* *Default ratio (--FeMg = 0.9)*\n",
        "  * Mass =  1.000 Earth masses\n",
        "  * Radius =  0.999 Earth radii\n",
        "  * Core Mass Fraction =  32.95\n",
        "  * Core Radius Fraction =  53.02\n",
        "  * CMB Pressure =  141.56 GPa\n",
        "* *Equal ratio (--FeMg = 1)*\n",
        "  * Mass =  1.000 Earth masses\n",
        "  * Radius =  0.993 Earth radii\n",
        "  * Core Mass Fraction =  35.31\n",
        "  * Core Radius Fraction =  54.56\n",
        "  * CMB Pressure =  138.47 GPa\n",
        "* *High Mg, low Fe (--FeMg = 1e-6)*\n",
        "  * Mass =  1.000 Earth masses\n",
        "  * Radius =  1.078 Earth radii\n",
        "  * Core Mass Fraction =  0.20\n",
        "  * Core Radius Fraction =  11.65\n",
        "  * CMB Pressure =  149.43 GPa\n",
        "* *High Fe, Low Mg (--FeMg = 1e6)*\n",
        "  * Mass =  1.000 Earth masses\n",
        "  * Radius =  0.793 Earth radii\n",
        "  * Core Mass Fraction =  100.00\n",
        "  * Core Radius Fraction =  100.00\n",
        "  * CMB Pressure =  0.30 GPa\n",
        "\n",
        "The mass of the planet never changes, no matter the ratio, while the radius and core mass/radius fraction and CMB pressure does change. When the ratio of Fe to Mg gets larger (more iron than magnesium), the radius shrinks, the core gets significantly larger, and the CMB pressure goes close to 0 GPa. The reverse occurs when the ratio gets smaller (less iron than magnesium). This is likely due to the fact that this variable adjusts the relative quantity of iron, which, in this program, is assumed to be entirely in the core. Thus, a high ratio of Fe to Mg would indicate a larger core than mantle, and therefore a more dense planet (smaller radius with the same mass as a less dense planet) with a larger core mass/radius fraction and less pressure at the Core-Mantle Boundary."
      ],
      "metadata": {
        "id": "Ux6XGbl1whzj"
      }
    },
    {
      "cell_type": "markdown",
      "source": [
        "### **Question 3**\n",
        "\n",
        "Explore the effect of moving Fe from the core to the mantle (as FeO). Take note of the size of the planet, the planet structure (e.g. core to mantle ratio), and the effect on the mantle composition."
      ],
      "metadata": {
        "id": "-ivUV9cYzbFx"
      }
    },
    {
      "cell_type": "code",
      "source": [
        "!python Group_X.py --mol_frac_Fe_mantle=0.01  # very little FeO"
      ],
      "metadata": {
        "colab": {
          "base_uri": "https://localhost:8080/"
        },
        "id": "ZYv4ZclazQde",
        "outputId": "0636420d-804c-4c71-f986-d6c5a441864a"
      },
      "execution_count": 14,
      "outputs": [
        {
          "output_type": "stream",
          "name": "stdout",
          "text": [
            "\n",
            "Core composition:  {'Fe': np.float64(100.0), 'Si': np.float64(0.0), 'O': np.float64(0.0), 'S': np.float64(0.0)}\n",
            "Mantle composition:  {'FeO': np.float64(0.62447702), 'SiO2': np.float64(52.22677644), 'MgO': np.float64(38.92640238), 'CaO': np.float64(3.79111485), 'Al2O3': np.float64(4.43122931)}\n",
            "Mantle Fe# 0.0089197224975223\n",
            "Core Mass Percent =  32.458\n",
            "\n",
            "Your closest grid filename is:  0.07CaMg_0.00FeMg_0.09AlMg_0.9SiMg_0.0NaMg_0.00Fe_U/LM_results.txt\n",
            "\n",
            "\n",
            "Core composition:  {'Fe': np.float64(100.0), 'Si': np.float64(0.0), 'O': np.float64(0.0), 'S': np.float64(0.0)}\n",
            "Mantle composition:  {'FeO': np.float64(0.62447702), 'SiO2': np.float64(52.22677644), 'MgO': np.float64(38.92640238), 'CaO': np.float64(3.79111485), 'Al2O3': np.float64(4.43122931)}\n",
            "Mantle Fe# 0.0089197224975223\n",
            "Core Mass Percent =  32.458\n",
            "\n",
            "The Upper mantle .tab already exists, please wait briefly for solution\n",
            "\n",
            "../Solutions_Small/0.07CaMg_0.00FeMg_0.09AlMg_0.9SiMg_0.0NaMg_0.00Fe\n",
            "The Lower mantle .tab already exists, please wait briefly for solution\n",
            "\n",
            "iteration # 1\n",
            "iteration # 2\n",
            "iteration # 3\n",
            "iteration # 4\n",
            "iteration # 5\n",
            "iteration # 6\n",
            "iteration # 7\n",
            "iteration # 8\n",
            "iteration # 9\n",
            "iteration # 10\n",
            "iteration # 11\n",
            "iteration # 12\n",
            "iteration # 13\n",
            "iteration # 14\n",
            "iteration # 15\n",
            "\n",
            "Mass =  1.000 Earth masses\n",
            "Radius =  1.000 Earth radii\n",
            "Core Mass Fraction =  32.59\n",
            "Core Radius Fraction =  52.79\n",
            "CMB Pressure =  142.02 GPa\n",
            "number of oceans: 0.00\n",
            "\n",
            "Detailed data file written to: high_wFEO_Radius_1.00.txt\n",
            "\n",
            "Figure(1200x1000)\n"
          ]
        }
      ]
    },
    {
      "cell_type": "code",
      "source": [
        "!python Group_X.py --mol_frac_Fe_mantle=0.2  # small increment"
      ],
      "metadata": {
        "colab": {
          "base_uri": "https://localhost:8080/"
        },
        "id": "joafZsLr1AwV",
        "outputId": "6913e5f0-8790-4fbf-e474-242f91d4e468"
      },
      "execution_count": 15,
      "outputs": [
        {
          "output_type": "stream",
          "name": "stdout",
          "text": [
            "\n",
            "Core composition:  {'Fe': np.float64(100.0), 'Si': np.float64(0.0), 'O': np.float64(0.0), 'S': np.float64(0.0)}\n",
            "Mantle composition:  {'FeO': np.float64(11.16482669), 'SiO2': np.float64(46.68729882), 'MgO': np.float64(34.79764028), 'CaO': np.float64(3.38900702), 'Al2O3': np.float64(3.96122719)}\n",
            "Mantle Fe# 0.15254237288135578\n",
            "Core Mass Percent =  25.769\n",
            "\n",
            "Your closest grid filename is:  0.07CaMg_0.00FeMg_0.09AlMg_0.9SiMg_0.0NaMg_0.10Fe_U/LM_results.txt\n",
            "\n",
            "\n",
            "Core composition:  {'Fe': np.float64(100.0), 'Si': np.float64(0.0), 'O': np.float64(0.0), 'S': np.float64(0.0)}\n",
            "Mantle composition:  {'FeO': np.float64(11.16482669), 'SiO2': np.float64(46.68729882), 'MgO': np.float64(34.79764028), 'CaO': np.float64(3.38900702), 'Al2O3': np.float64(3.96122719)}\n",
            "Mantle Fe# 0.15254237288135578\n",
            "Core Mass Percent =  25.769\n",
            "\n",
            "The Upper mantle .tab already exists, please wait briefly for solution\n",
            "\n",
            "../Solutions_Small/0.07CaMg_0.00FeMg_0.09AlMg_0.9SiMg_0.0NaMg_0.10Fe\n",
            "The Lower mantle .tab already exists, please wait briefly for solution\n",
            "\n",
            "iteration # 1\n",
            "iteration # 2\n",
            "iteration # 3\n",
            "iteration # 4\n",
            "iteration # 5\n",
            "iteration # 6\n",
            "iteration # 7\n",
            "iteration # 8\n",
            "iteration # 9\n",
            "iteration # 10\n",
            "iteration # 11\n",
            "iteration # 12\n",
            "iteration # 13\n",
            "iteration # 14\n",
            "iteration # 15\n",
            "\n",
            "Mass =  1.000 Earth masses\n",
            "Radius =  1.004 Earth radii\n",
            "Core Mass Fraction =  25.92\n",
            "Core Radius Fraction =  48.72\n",
            "CMB Pressure =  155.48 GPa\n",
            "number of oceans: 0.00\n",
            "\n",
            "Detailed data file written to: high_wFEO_Radius_1.00.txt\n",
            "\n",
            "Figure(1200x1000)\n"
          ]
        }
      ]
    },
    {
      "cell_type": "code",
      "source": [
        "!python Group_X.py --mol_frac_Fe_mantle=0.39  # maximum allowed amount of FeO"
      ],
      "metadata": {
        "colab": {
          "base_uri": "https://localhost:8080/"
        },
        "id": "Bnx7nJEb1Ldb",
        "outputId": "937e5cb1-a2a9-470d-b720-e947aad130d3"
      },
      "execution_count": 16,
      "outputs": [
        {
          "output_type": "stream",
          "name": "stdout",
          "text": [
            "\n",
            "Core composition:  {'Fe': np.float64(100.0), 'Si': np.float64(0.0), 'O': np.float64(0.0), 'S': np.float64(0.0)}\n",
            "Mantle composition:  {'FeO': np.float64(19.68364902), 'SiO2': np.float64(42.21023429), 'MgO': np.float64(31.460731), 'CaO': np.float64(3.06401921), 'Al2O3': np.float64(3.58136649)}\n",
            "Mantle Fe# 0.25980754996299016\n",
            "Core Mass Percent =  19.310\n",
            "\n",
            "Your closest grid filename is:  0.07CaMg_0.00FeMg_0.09AlMg_0.9SiMg_0.0NaMg_0.20Fe_U/LM_results.txt\n",
            "\n",
            "\n",
            "Core composition:  {'Fe': np.float64(100.0), 'Si': np.float64(0.0), 'O': np.float64(0.0), 'S': np.float64(0.0)}\n",
            "Mantle composition:  {'FeO': np.float64(19.68364902), 'SiO2': np.float64(42.21023429), 'MgO': np.float64(31.460731), 'CaO': np.float64(3.06401921), 'Al2O3': np.float64(3.58136649)}\n",
            "Mantle Fe# 0.25980754996299016\n",
            "Core Mass Percent =  19.310\n",
            "\n",
            "The Upper mantle .tab already exists, please wait briefly for solution\n",
            "\n",
            "../Solutions_Small/0.07CaMg_0.00FeMg_0.09AlMg_0.9SiMg_0.0NaMg_0.20Fe\n",
            "The Lower mantle .tab already exists, please wait briefly for solution\n",
            "\n",
            "iteration # 1\n",
            "iteration # 2\n",
            "iteration # 3\n",
            "iteration # 4\n",
            "iteration # 5\n",
            "iteration # 6\n",
            "iteration # 7\n",
            "iteration # 8\n",
            "iteration # 9\n",
            "iteration # 10\n",
            "iteration # 11\n",
            "iteration # 12\n",
            "iteration # 13\n",
            "iteration # 14\n",
            "iteration # 15\n",
            "\n",
            "Mass =  1.000 Earth masses\n",
            "Radius =  1.005 Earth radii\n",
            "Core Mass Fraction =  19.47\n",
            "Core Radius Fraction =  44.26\n",
            "CMB Pressure =  169.31 GPa\n",
            "number of oceans: 0.00\n",
            "\n",
            "Detailed data file written to: high_wFEO_Radius_1.01.txt\n",
            "\n",
            "Figure(1200x1000)\n"
          ]
        }
      ]
    },
    {
      "cell_type": "markdown",
      "source": [
        "**Moving Fe from the core to the mantle (as FeO)**\n",
        "\n",
        "Moving iron from the core to the mantle of this planet appears to have a significant effect on the size of the planet, the planet structure (e.g. core to mantle ratio), and the mantle composition:\n",
        "* *Small amount of FeO (mol_frac_Fe_mantle=0.01)*\n",
        "  * Mass =  1.000 Earth masses\n",
        "  * Radius =  1.000 Earth radii\n",
        "  * Core Mass Fraction =  32.59\n",
        "  * Core Radius Fraction =  52.79\n",
        "  * CMB Pressure =  142.02 GPa\n",
        "  * Mantle composition: FeO=0.624, SiO2=52.227, MgO=38.926, CaO=3.791, Al2O3=4.431\n",
        "* *Intermediate amount of FeO (mol_frac_Fe_mantle=0.2)*\n",
        "  * Mass =  1.000 Earth masses\n",
        "  * Radius =  1.004 Earth radii\n",
        "  * Core Mass Fraction =  25.92\n",
        "  * Core Radius Fraction =  48.72\n",
        "  * CMB Pressure =  155.48 GPa\n",
        "  * Mantle composition: FeO=11.165, SiO2=46.687, MgO=34.798, CaO=3.389, Al2O3=3.961\n",
        "* *Maximum allowed amount of FeO (mol_frac_Fe_mantle=0.39)*\n",
        "  * Mass =  1.000 Earth masses\n",
        "  * Radius =  1.005 Earth radii\n",
        "  * Core Mass Fraction =  19.47\n",
        "  * Core Radius Fraction =  44.26\n",
        "  * CMB Pressure =  169.31 GPa\n",
        "  * Mantle composition: FeO=19.684, SiO2=42.210, MgO=31.461, CaO=3.064, Al2O3=3.581\n",
        "\n",
        "This mass of the planet never changes, despite the amount of iron moved from the core to the mantle. The radius and CMB pressure both get slightly larger and the core mass/radius fractions both get smaller (linearly) as the amount moved increases. This is because iron is being moved from the core to the mantle in the form of FeO, which decreases its density because Fe is more dense than FeO (and increases its radius), and the core gets smaller while the mantle increases in size (which would increase the pressure at the CMB).\n",
        "\n",
        "As for the mantle composition, FeO is the only compound that increases in relative frequency, while the other four decrease. This is because FeO is the only compound that is being added/removed while the others remain constant, and the total amount of substance in the mantle is increasing, so of course the other four relative frequencies would decrease.\n"
      ],
      "metadata": {
        "id": "wkP5yUzo1qE4"
      }
    },
    {
      "cell_type": "markdown",
      "source": [
        "### **Question 4**\n",
        "\n",
        "Explore the effect of adding light elements to the core. Take note of the size of the planet, the planet structure (e.g. core to mantle ratio), and the effect on the mantle composition."
      ],
      "metadata": {
        "id": "OS9zSzGR50oi"
      }
    },
    {
      "cell_type": "code",
      "source": [
        "!python Group_X.py --wt_frac_Si_core=0.01 --wt_frac_O_core=0.01 --wt_frac_S_core=0.01  # very little light elements"
      ],
      "metadata": {
        "colab": {
          "base_uri": "https://localhost:8080/"
        },
        "id": "UtcZf9Eb5zC9",
        "outputId": "12135a06-832a-4a85-a676-50bc7e0eefb5"
      },
      "execution_count": 17,
      "outputs": [
        {
          "output_type": "stream",
          "name": "stdout",
          "text": [
            "\n",
            "Core composition:  {'Fe': np.float64(97.0), 'Si': np.float64(1.0), 'O': np.float64(1.0), 'S': np.float64(1.0)}\n",
            "Mantle composition:  {'FeO': np.float64(2.39338503), 'SiO2': np.float64(50.81249377), 'MgO': np.float64(38.63362071), 'CaO': np.float64(3.7626003), 'Al2O3': np.float64(4.39790019)}\n",
            "Mantle Fe# 0.033587674234745075\n",
            "Core Mass Percent =  32.317\n",
            "\n",
            "Your closest grid filename is:  0.07CaMg_0.00FeMg_0.09AlMg_0.9SiMg_0.0NaMg_0.02Fe_U/LM_results.txt\n",
            "\n",
            "\n",
            "Core composition:  {'Fe': np.float64(97.0), 'Si': np.float64(1.0), 'O': np.float64(1.0), 'S': np.float64(1.0)}\n",
            "Mantle composition:  {'FeO': np.float64(2.39338503), 'SiO2': np.float64(50.81249377), 'MgO': np.float64(38.63362071), 'CaO': np.float64(3.7626003), 'Al2O3': np.float64(4.39790019)}\n",
            "Mantle Fe# 0.033587674234745075\n",
            "Core Mass Percent =  32.317\n",
            "\n",
            "The Upper mantle .tab already exists, please wait briefly for solution\n",
            "\n",
            "../Solutions_Small/0.07CaMg_0.00FeMg_0.09AlMg_0.9SiMg_0.0NaMg_0.02Fe\n",
            "The Lower mantle .tab already exists, please wait briefly for solution\n",
            "\n",
            "iteration # 1\n",
            "iteration # 2\n",
            "iteration # 3\n",
            "iteration # 4\n",
            "iteration # 5\n",
            "iteration # 6\n",
            "iteration # 7\n",
            "iteration # 8\n",
            "iteration # 9\n",
            "iteration # 10\n",
            "iteration # 11\n",
            "iteration # 12\n",
            "iteration # 13\n",
            "iteration # 14\n",
            "\n",
            "Mass =  1.000 Earth masses\n",
            "Radius =  1.002 Earth radii\n",
            "Core Mass Fraction =  32.45\n",
            "Core Radius Fraction =  53.53\n",
            "CMB Pressure =  138.37 GPa\n",
            "number of oceans: 0.00\n",
            "\n",
            "Detailed data file written to: high_wFEO_Radius_1.00.txt\n",
            "\n",
            "Figure(1200x1000)\n"
          ]
        }
      ]
    },
    {
      "cell_type": "code",
      "source": [
        "!python Group_X.py --wt_frac_Si_core=0.05 --wt_frac_O_core=0.05 --wt_frac_S_core=0.05  # small increment"
      ],
      "metadata": {
        "colab": {
          "base_uri": "https://localhost:8080/"
        },
        "id": "0JfiZV4l7fsV",
        "outputId": "cc8ad1da-96a0-4be3-f927-eea7f4c2f5e4"
      },
      "execution_count": 18,
      "outputs": [
        {
          "output_type": "stream",
          "name": "stdout",
          "text": [
            "\n",
            "Core composition:  {'Fe': np.float64(85.0), 'Si': np.float64(5.0), 'O': np.float64(5.0), 'S': np.float64(5.0)}\n",
            "Mantle composition:  {'FeO': np.float64(10.28035014), 'SiO2': np.float64(44.87258022), 'MgO': np.float64(37.02611854), 'CaO': np.float64(3.60604267), 'Al2O3': np.float64(4.21490843)}\n",
            "Mantle Fe# 0.1347722482943478\n",
            "Core Mass Percent =  30.995\n",
            "\n",
            "Your closest grid filename is:  0.07CaMg_0.00FeMg_0.09AlMg_0.8SiMg_0.0NaMg_0.10Fe_U/LM_results.txt\n",
            "\n",
            "\n",
            "Core composition:  {'Fe': np.float64(85.0), 'Si': np.float64(5.0), 'O': np.float64(5.0), 'S': np.float64(5.0)}\n",
            "Mantle composition:  {'FeO': np.float64(10.28035014), 'SiO2': np.float64(44.87258022), 'MgO': np.float64(37.02611854), 'CaO': np.float64(3.60604267), 'Al2O3': np.float64(4.21490843)}\n",
            "Mantle Fe# 0.1347722482943478\n",
            "Core Mass Percent =  30.995\n",
            "\n",
            "The Upper mantle .tab already exists, please wait briefly for solution\n",
            "\n",
            "../Solutions_Small/0.07CaMg_0.00FeMg_0.09AlMg_0.8SiMg_0.0NaMg_0.10Fe\n",
            "The Lower mantle .tab already exists, please wait briefly for solution\n",
            "\n",
            "iteration # 1\n",
            "iteration # 2\n",
            "iteration # 3\n",
            "iteration # 4\n",
            "iteration # 5\n",
            "iteration # 6\n",
            "iteration # 7\n",
            "iteration # 8\n",
            "iteration # 9\n",
            "iteration # 10\n",
            "iteration # 11\n",
            "iteration # 12\n",
            "iteration # 13\n",
            "iteration # 14\n",
            "iteration # 15\n",
            "\n",
            "Mass =  1.000 Earth masses\n",
            "Radius =  1.009 Earth radii\n",
            "Core Mass Fraction =  31.13\n",
            "Core Radius Fraction =  55.71\n",
            "CMB Pressure =  126.84 GPa\n",
            "number of oceans: 0.00\n",
            "\n",
            "Detailed data file written to: high_wFEO_Radius_1.01.txt\n",
            "\n",
            "Figure(1200x1000)\n"
          ]
        }
      ]
    },
    {
      "cell_type": "code",
      "source": [
        "!python Group_X.py --wt_frac_Si_core=0.11 --wt_frac_O_core=0.11 --wt_frac_S_core=0.11  # maximum allowed amounts (sum < 0.334)"
      ],
      "metadata": {
        "colab": {
          "base_uri": "https://localhost:8080/"
        },
        "id": "Stl_jy0i6J--",
        "outputId": "b8d6433a-7652-45a7-ba33-c83b658ec74c"
      },
      "execution_count": 19,
      "outputs": [
        {
          "output_type": "stream",
          "name": "stdout",
          "text": [
            "\n",
            "Core composition:  {'Fe': np.float64(67.0), 'Si': np.float64(11.0), 'O': np.float64(11.0), 'S': np.float64(11.0)}\n",
            "Mantle composition:  {'FeO': np.float64(18.9622221), 'SiO2': np.float64(37.59200523), 'MgO': np.float64(35.86919596), 'CaO': np.float64(3.49336782), 'Al2O3': np.float64(4.08320889)}\n",
            "Mantle Fe# 0.2287386156494901\n",
            "Core Mass Percent =  30.920\n",
            "\n",
            "Your closest grid filename is:  0.07CaMg_0.00FeMg_0.09AlMg_0.7SiMg_0.0NaMg_0.20Fe_U/LM_results.txt\n",
            "\n",
            "\n",
            "Core composition:  {'Fe': np.float64(67.0), 'Si': np.float64(11.0), 'O': np.float64(11.0), 'S': np.float64(11.0)}\n",
            "Mantle composition:  {'FeO': np.float64(18.9622221), 'SiO2': np.float64(37.59200523), 'MgO': np.float64(35.86919596), 'CaO': np.float64(3.49336782), 'Al2O3': np.float64(4.08320889)}\n",
            "Mantle Fe# 0.2287386156494901\n",
            "Core Mass Percent =  30.920\n",
            "\n",
            "The Upper mantle .tab already exists, please wait briefly for solution\n",
            "\n",
            "../Solutions_Small/0.07CaMg_0.00FeMg_0.09AlMg_0.7SiMg_0.0NaMg_0.20Fe\n",
            "The Lower mantle .tab already exists, please wait briefly for solution\n",
            "\n",
            "iteration # 1\n",
            "iteration # 2\n",
            "iteration # 3\n",
            "iteration # 4\n",
            "iteration # 5\n",
            "iteration # 6\n",
            "iteration # 7\n",
            "iteration # 8\n",
            "iteration # 9\n",
            "iteration # 10\n",
            "iteration # 11\n",
            "iteration # 12\n",
            "iteration # 13\n",
            "iteration # 14\n",
            "\n",
            "Mass =  1.000 Earth masses\n",
            "Radius =  1.018 Earth radii\n",
            "Core Mass Fraction =  31.06\n",
            "Core Radius Fraction =  59.62\n",
            "CMB Pressure =  111.12 GPa\n",
            "number of oceans: 0.00\n",
            "\n",
            "Detailed data file written to: high_wFEO_Radius_1.02.txt\n",
            "\n",
            "Figure(1200x1000)\n"
          ]
        }
      ]
    },
    {
      "cell_type": "markdown",
      "source": [
        "**Adding light elements to core**\n",
        "\n",
        "Adding light elements to the core (Si, O, S) appears to have a significant effect on the size of the planet, the planet structure (e.g. core to mantle ratio), and the mantle composition:\n",
        "* *Small amount of light elements (wt_frac_Si_core=0.01, wt_frac_O_core=0.01, wt_frac_S_core=0.01)*\n",
        "  * Mass =  1.000 Earth masses\n",
        "  * Radius =  1.002 Earth radii\n",
        "  * Core Mass Fraction =  32.45\n",
        "  * Core Radius Fraction =  53.53\n",
        "  * CMB Pressure =  138.37 GPa\n",
        "  * Mantle composition: FeO=2.393, SiO2=50.812, MgO=38.634, CaO=3.763, Al2O3=4.398\n",
        "* *Intermediate amount of light elements (wt_frac_Si_core=0.05, wt_frac_O_core=0.05, wt_frac_S_core=0.05)*\n",
        "  * Mass =  1.000 Earth masses\n",
        "  * Radius =  1.009 Earth radii\n",
        "  * Core Mass Fraction =  31.13\n",
        "  * Core Radius Fraction =  55.71\n",
        "  * CMB Pressure =  126.84 GPa\n",
        "  * Mantle composition: FeO=10.280, SiO2=44.872, MgO=37.026, CaO=3.606, Al2O3=4.215\n",
        "* *Maximum allowed amount of light elements (wt_frac_Si_core=0.11, wt_frac_O_core=0.11, wt_frac_S_core=0.11)*\n",
        "  * Mass =  1.000 Earth masses\n",
        "  * Radius =  1.018 Earth radii\n",
        "  * Core Mass Fraction =  31.06\n",
        "  * Core Radius Fraction =  59.62\n",
        "  * CMB Pressure =  111.12 GPa\n",
        "  * Mantle composition: FeO=18.962, SiO2=37.592, MgO=35.869, CaO=3.493, Al2O3=4.083\n",
        "\n",
        "This mass of the planet never changes, despite the amount of light elements added to the core. The radius (*barely*) and core radius fraction both get larger, while the core mass fraction and CMB pressure both get smaller as the amount of light elements added increases. This is because light elements are being added to the core, which decreases the relative frequency of Fe in the core and increases the relative frequency of FeO in the mantle. This decreases its density because these elements are less dense than Fe (and increases its radius), and the radius of the core gets larger while the mass of the core gets smaller (less dense elements). The mantle-to-core ratio becomes smaller, which decreases the pressure at the CMB.\n",
        "\n",
        "As for the mantle composition, FeO is the only compound that increases in relative frequency, while the other four decrease. This is because FeO is the only compound that is being added/removed while the others remain constant, and the total amount of substance in the mantle is increasing, so of course the other four relative frequencies would decrease. It is also important to note that changing the amount of Si, O, and S (ie. not keeping them the same frequency) does change the core/mantle composition, as well as the planet structure, but only slightly."
      ],
      "metadata": {
        "id": "QnKHQt4O7sY5"
      }
    },
    {
      "cell_type": "markdown",
      "source": [
        "### **Question 5**\n",
        "\n",
        "Take a look at the mineral proportions through the mantle and how they change with Si/Mg ratios (output is found in .tsv file). Open this in excel or Matlab or other appropriate data viewer, and identify the most abundant minerals. Pick one and examine how it changes with Si/Mg."
      ],
      "metadata": {
        "id": "2K7isB8s_Zwb"
      }
    },
    {
      "cell_type": "code",
      "source": [
        "!python Group_X.py  # no adjustment (control)"
      ],
      "metadata": {
        "colab": {
          "base_uri": "https://localhost:8080/"
        },
        "id": "xr9WJHwn_VHg",
        "outputId": "33d0eb00-28e6-476d-d151-9d288096522f"
      },
      "execution_count": 20,
      "outputs": [
        {
          "output_type": "stream",
          "name": "stdout",
          "text": [
            "\n",
            "Core composition:  {'Fe': np.float64(100.0), 'Si': np.float64(0.0), 'O': np.float64(0.0), 'S': np.float64(0.0)}\n",
            "Mantle composition:  {'FeO': np.float64(0.0), 'SiO2': np.float64(52.55497015), 'MgO': np.float64(39.17101638), 'CaO': np.float64(3.81493827), 'Al2O3': np.float64(4.45907521)}\n",
            "Mantle Fe# -0.0\n",
            "Core Mass Percent =  32.816\n",
            "\n",
            "Your closest grid filename is:  0.07CaMg_0.00FeMg_0.09AlMg_0.9SiMg_0.0NaMg_0.00Fe_U/LM_results.txt\n",
            "\n",
            "\n",
            "Core composition:  {'Fe': np.float64(100.0), 'Si': np.float64(0.0), 'O': np.float64(0.0), 'S': np.float64(0.0)}\n",
            "Mantle composition:  {'FeO': np.float64(0.0), 'SiO2': np.float64(52.55497015), 'MgO': np.float64(39.17101638), 'CaO': np.float64(3.81493827), 'Al2O3': np.float64(4.45907521)}\n",
            "Mantle Fe# -0.0\n",
            "Core Mass Percent =  32.816\n",
            "\n",
            "The Upper mantle .tab already exists, please wait briefly for solution\n",
            "\n",
            "../Solutions_Small/0.07CaMg_0.00FeMg_0.09AlMg_0.9SiMg_0.0NaMg_0.00Fe\n",
            "The Lower mantle .tab already exists, please wait briefly for solution\n",
            "\n",
            "iteration # 1\n",
            "iteration # 2\n",
            "iteration # 3\n",
            "iteration # 4\n",
            "iteration # 5\n",
            "iteration # 6\n",
            "iteration # 7\n",
            "iteration # 8\n",
            "iteration # 9\n",
            "iteration # 10\n",
            "iteration # 11\n",
            "iteration # 12\n",
            "iteration # 13\n",
            "iteration # 14\n",
            "iteration # 15\n",
            "\n",
            "Mass =  1.000 Earth masses\n",
            "Radius =  0.999 Earth radii\n",
            "Core Mass Fraction =  32.95\n",
            "Core Radius Fraction =  53.02\n",
            "CMB Pressure =  141.56 GPa\n",
            "number of oceans: 0.00\n",
            "\n",
            "Detailed data file written to: high_wFEO_Radius_1.00.txt\n",
            "\n",
            "Figure(1200x1000)\n"
          ]
        }
      ]
    },
    {
      "cell_type": "code",
      "source": [
        "!python Group_X.py --SiMg=1  # equal quantities"
      ],
      "metadata": {
        "colab": {
          "base_uri": "https://localhost:8080/"
        },
        "id": "xFld82AGDAo0",
        "outputId": "1c273dd9-a151-4aa4-bfbe-19bee53b6dbc"
      },
      "execution_count": 21,
      "outputs": [
        {
          "output_type": "stream",
          "name": "stdout",
          "text": [
            "\n",
            "Core composition:  {'Fe': np.float64(100.0), 'Si': np.float64(0.0), 'O': np.float64(0.0), 'S': np.float64(0.0)}\n",
            "Mantle composition:  {'FeO': np.float64(0.0), 'SiO2': np.float64(55.17263759), 'MgO': np.float64(37.00984808), 'CaO': np.float64(3.60445806), 'Al2O3': np.float64(4.21305627)}\n",
            "Mantle Fe# -0.0\n",
            "Core Mass Percent =  31.578\n",
            "\n",
            "Your closest grid filename is:  0.07CaMg_0.00FeMg_0.09AlMg_1.0SiMg_0.0NaMg_0.00Fe_U/LM_results.txt\n",
            "\n",
            "\n",
            "Core composition:  {'Fe': np.float64(100.0), 'Si': np.float64(0.0), 'O': np.float64(0.0), 'S': np.float64(0.0)}\n",
            "Mantle composition:  {'FeO': np.float64(0.0), 'SiO2': np.float64(55.17263759), 'MgO': np.float64(37.00984808), 'CaO': np.float64(3.60445806), 'Al2O3': np.float64(4.21305627)}\n",
            "Mantle Fe# -0.0\n",
            "Core Mass Percent =  31.578\n",
            "\n",
            "The Upper mantle .tab already exists, please wait briefly for solution\n",
            "\n",
            "../Solutions_Small/0.07CaMg_0.00FeMg_0.09AlMg_1.0SiMg_0.0NaMg_0.00Fe\n",
            "The Lower mantle .tab already exists, please wait briefly for solution\n",
            "\n",
            "iteration # 1\n",
            "iteration # 2\n",
            "iteration # 3\n",
            "iteration # 4\n",
            "iteration # 5\n",
            "iteration # 6\n",
            "iteration # 7\n",
            "iteration # 8\n",
            "iteration # 9\n",
            "iteration # 10\n",
            "iteration # 11\n",
            "iteration # 12\n",
            "iteration # 13\n",
            "iteration # 14\n",
            "iteration # 15\n",
            "\n",
            "Mass =  1.000 Earth masses\n",
            "Radius =  1.002 Earth radii\n",
            "Core Mass Fraction =  31.71\n",
            "Core Radius Fraction =  52.24\n",
            "CMB Pressure =  143.45 GPa\n",
            "number of oceans: 0.00\n",
            "\n",
            "Detailed data file written to: high_wFEO_Radius_1.00.txt\n",
            "\n",
            "Figure(1200x1000)\n"
          ]
        }
      ]
    },
    {
      "cell_type": "code",
      "source": [
        "!python Group_X.py --SiMg=0.5  # minimum Si"
      ],
      "metadata": {
        "colab": {
          "base_uri": "https://localhost:8080/"
        },
        "id": "EFcHOnnpD-de",
        "outputId": "83e4400a-10ac-40cf-fac4-4451894af958"
      },
      "execution_count": 22,
      "outputs": [
        {
          "output_type": "stream",
          "name": "stdout",
          "text": [
            "\n",
            "Core composition:  {'Fe': np.float64(100.0), 'Si': np.float64(0.0), 'O': np.float64(0.0), 'S': np.float64(0.0)}\n",
            "Mantle composition:  {'FeO': np.float64(0.0), 'SiO2': np.float64(38.09545149), 'MgO': np.float64(51.10891681), 'CaO': np.float64(4.97759263), 'Al2O3': np.float64(5.81803907)}\n",
            "Mantle Fe# -0.0\n",
            "Core Mass Percent =  38.925\n",
            "\n",
            "Your closest grid filename is:  0.07CaMg_0.00FeMg_0.09AlMg_0.5SiMg_0.0NaMg_0.00Fe_U/LM_results.txt\n",
            "\n",
            "\n",
            "Core composition:  {'Fe': np.float64(100.0), 'Si': np.float64(0.0), 'O': np.float64(0.0), 'S': np.float64(0.0)}\n",
            "Mantle composition:  {'FeO': np.float64(0.0), 'SiO2': np.float64(38.09545149), 'MgO': np.float64(51.10891681), 'CaO': np.float64(4.97759263), 'Al2O3': np.float64(5.81803907)}\n",
            "Mantle Fe# -0.0\n",
            "Core Mass Percent =  38.925\n",
            "\n",
            "The Upper mantle .tab already exists, please wait briefly for solution\n",
            "\n",
            "../Solutions_Small/0.07CaMg_0.00FeMg_0.09AlMg_0.5SiMg_0.0NaMg_0.00Fe\n",
            "The Lower mantle .tab already exists, please wait briefly for solution\n",
            "\n",
            "iteration # 1\n",
            "iteration # 2\n",
            "iteration # 3\n",
            "iteration # 4\n",
            "iteration # 5\n",
            "iteration # 6\n",
            "iteration # 7\n",
            "iteration # 8\n",
            "iteration # 9\n",
            "iteration # 10\n",
            "iteration # 11\n",
            "iteration # 12\n",
            "iteration # 13\n",
            "iteration # 14\n",
            "iteration # 15\n",
            "\n",
            "Mass =  1.000 Earth masses\n",
            "Radius =  0.987 Earth radii\n",
            "Core Mass Fraction =  39.05\n",
            "Core Radius Fraction =  56.78\n",
            "CMB Pressure =  131.77 GPa\n",
            "number of oceans: 0.00\n",
            "\n",
            "Detailed data file written to: high_wFEO_Radius_0.99.txt\n",
            "\n",
            "Figure(1200x1000)\n"
          ]
        }
      ]
    },
    {
      "cell_type": "code",
      "source": [
        "!python Group_X.py --SiMg=2  # minimum Mg"
      ],
      "metadata": {
        "colab": {
          "base_uri": "https://localhost:8080/"
        },
        "id": "wE8-kFKOEgfp",
        "outputId": "b7fcad0a-5d7c-41c8-cb7f-0482cb0041e0"
      },
      "execution_count": 23,
      "outputs": [
        {
          "output_type": "stream",
          "name": "stdout",
          "text": [
            "\n",
            "Core composition:  {'Fe': np.float64(100.0), 'Si': np.float64(0.0), 'O': np.float64(0.0), 'S': np.float64(0.0)}\n",
            "Mantle composition:  {'FeO': np.float64(0.0), 'SiO2': np.float64(71.111297), 'MgO': np.float64(23.85075659), 'CaO': np.float64(2.32286962), 'Al2O3': np.float64(2.71507679)}\n",
            "Mantle Fe# -0.0\n",
            "Core Mass Percent =  22.924\n",
            "\n",
            "Your closest grid filename is:  0.07CaMg_0.00FeMg_0.09AlMg_2.0SiMg_0.0NaMg_0.00Fe_U/LM_results.txt\n",
            "\n",
            "\n",
            "Core composition:  {'Fe': np.float64(100.0), 'Si': np.float64(0.0), 'O': np.float64(0.0), 'S': np.float64(0.0)}\n",
            "Mantle composition:  {'FeO': np.float64(0.0), 'SiO2': np.float64(71.111297), 'MgO': np.float64(23.85075659), 'CaO': np.float64(2.32286962), 'Al2O3': np.float64(2.71507679)}\n",
            "Mantle Fe# -0.0\n",
            "Core Mass Percent =  22.924\n",
            "\n",
            "The Upper mantle .tab already exists, please wait briefly for solution\n",
            "\n",
            "../Solutions_Small/0.07CaMg_0.00FeMg_0.09AlMg_2.0SiMg_0.0NaMg_0.00Fe\n",
            "The Lower mantle .tab already exists, please wait briefly for solution\n",
            "\n",
            "iteration # 1\n",
            "iteration # 2\n",
            "iteration # 3\n",
            "iteration # 4\n",
            "iteration # 5\n",
            "iteration # 6\n",
            "iteration # 7\n",
            "iteration # 8\n",
            "iteration # 9\n",
            "iteration # 10\n",
            "iteration # 11\n",
            "iteration # 12\n",
            "iteration # 13\n",
            "iteration # 14\n",
            "\n",
            "Mass =  1.000 Earth masses\n",
            "Radius =  1.019 Earth radii\n",
            "Core Mass Fraction =  23.08\n",
            "Core Radius Fraction =  46.33\n",
            "CMB Pressure =  154.97 GPa\n",
            "number of oceans: 0.00\n",
            "\n",
            "Detailed data file written to: high_wFEO_Radius_1.02.txt\n",
            "\n",
            "Figure(1200x1000)\n"
          ]
        }
      ]
    },
    {
      "cell_type": "markdown",
      "source": [
        "**Changing mineral proportions through the mantle with Si/Mg ratios**\n",
        "\n",
        "Looking at the control .tsv file, perovskite is clearly one of the most abundant minerals, ranging from depth 629.772 to 2576.943 km. Its abundance at these depths (with a default ratio of Si/Mg) remains around 78.475% for nearly the entirety of the near 2000 km where this substance can be found (ranges from 791.113 to 2560.058 km). The remaining ~500 km, it slowly tapers off until the mineral cannot be found at a depth less than 630 km.\n",
        "\n",
        "Very little changes when we change the ratio of Si to Mg to 1 (equal quantities of each). Perovskite can be found in depths ranging from 633.158 to 2602.326 km, and remains around 87.444% abundant for nearly the exact same range of depths (about 2000 km) as the default group.\n",
        "\n",
        "When we change the ratio of Si to Mg to 0.5 (the minimum ratio allowed - 5 Si molecules for 100 Mg), perovskite can be found in depths ranging from 634.112 to 2477.213 km, with a relative abundance of around 41.823% for around 1700 km. When we do the opposite, and change the ratio of Si to Mg to 2 (the maximum ratio allowed - 2 Si molecules for 1 Mg), perovskite can be found in depths ranging from 651.982 to 2738.246 km, with a relative abundance of around 51.001% for around 2000 km.\n",
        "\n",
        "Thus, we can conclude that changing the Si/Mg ratio affecrs the mineral proportions throughout the mantle. While the ratios barely affected the depths at which perovskite could be found, they did affect its relative abundance. A low ratio of Si to Mg means less abundance of perovskite, while a high ratio of Si to Mg also means a lower abundance of perovskite (but still higher than a low ratio). Perovskite can be found in the greatest relative abundance when there are an equal amoung of Si and Mg atoms."
      ],
      "metadata": {
        "id": "60WDvYRuAtAe"
      }
    },
    {
      "cell_type": "markdown",
      "source": [
        "### **Question 6**\n",
        "\n",
        "What parameters are most useful in better reproducing the sizes of each of these planets? Is it realistic?\n",
        "\n",
        "When it comes to strictly reproducing the sizes of these planets, it is clear that, outside of mass, the FeMg and SiMg parameters have the greatest impact on the predicted size of the planet. It is clear from the investigations from above, that mass, FeMg, and SiMg affect the planet's radius most significantly. It is important to note that wt_frac_Si_core, wt_frac_O_core, and wt_frac_S_core do impact the size of the planet rather significantly, but less than the other three parameters do. Also, mol_frac_Fe_mantle does not have much of an impact on the radius of the planet, as shown in the exercises above. I do not think the parameters CaMg and AlMg have as much impact (as they take up such a small proportion of relative abundance and have very strict boundaries within the program). These parameters are realistic, as we can determine the mass of the planet easily, along with its relative FeMg and SiMg ratios, as Fe, Si, and Mg are all very abundant elements within these simulated planets."
      ],
      "metadata": {
        "id": "lYOXQOclGUns"
      }
    },
    {
      "cell_type": "markdown",
      "source": [
        "$ $"
      ],
      "metadata": {
        "id": "cXLPX_EgKGXA"
      }
    },
    {
      "cell_type": "markdown",
      "source": [
        "## **Model Exoplanet System**"
      ],
      "metadata": {
        "id": "TZhMeBhRKHLD"
      }
    },
    {
      "cell_type": "markdown",
      "source": [
        "The planet we have selected is TRAPPIST-1e from the TRAPPIST-1 system. We can confirm this planet is likely rocky after consult some of the papers we previously read this semester (Fulton et al., 2017; Seager et al., 2007; Chen and Kipping, 2016). The planet is is smaller than Earth, but has around the same density, which indicates a rocky exterior.\n",
        "\n",
        "We found the radius and mass of this planet using the [NASA Exoplanet Archive](https://exoplanetarchive.ipac.caltech.edu/cgi-bin/TblView/nph-tblView?app=ExoTbls&config=PS). The [$\\frac{Fe}{H}$] value was found via [IOPscience.org](https://iopscience.iop.org/article/10.3847/1538-4357/aaa023/pdf). By referencing Figure 3 in Griffith et al., 2020, we estimated: [$\\frac{Mg}{Fe}$] ≈ 0.08 and [$\\frac{Si}{Fe}$] ≈ 0.07. We can find our [$\\frac{X}{H}$] values using the following general formula: [$\\frac{X}{H}$] = [$\\frac{X}{Fe}$] + [$\\frac{Fe}{H}$]. Knowing [$\\frac{Fe}{H}$] is estimated to be 0.04 for our TRAPPIST-1 star, we can further estimate: [$\\frac{Mg}{H}$] ≈ 0.12 and [$\\frac{Si}{H}$] ≈ 0.11.\n",
        "\n",
        "To find [$\\frac{Fe}{Mg}$] and [$\\frac{Si}{Mg}$], we use this formula: [$\\frac{X}{Mg}$] = $10^{[\\frac{X}{H}] - [\\frac{Mg}{H}]}$."
      ],
      "metadata": {
        "id": "ai2bLCUkKbcS"
      }
    },
    {
      "cell_type": "code",
      "source": [
        "# Estimated ratios for [Fe/H], [Mg/Fe], and [Si/Fe]\n",
        "Fe_H = 0.04\n",
        "Mg_H = 0.12\n",
        "Si_H = 0.11\n",
        "\n",
        "# Find [Fe/Mg] and [Si/Mg]\n",
        "Fe_Mg = 10**((Fe_H - Mg_H))\n",
        "Si_Mg = 10**((Si_H - Mg_H))\n",
        "print(f'[Fe/Mg]=',round(Fe_Mg,3),'and [Si/Mg]=',round(Si_Mg,3))"
      ],
      "metadata": {
        "colab": {
          "base_uri": "https://localhost:8080/"
        },
        "id": "AhpwL068KTXs",
        "outputId": "9d7ceb95-024b-4835-97db-68af062a7ab5"
      },
      "execution_count": 240,
      "outputs": [
        {
          "output_type": "stream",
          "name": "stdout",
          "text": [
            "[Fe/Mg]= 0.832 and [Si/Mg]= 0.977\n"
          ]
        }
      ]
    },
    {
      "cell_type": "markdown",
      "source": [
        "We have determined our planet mass and molar ratios [Fe/Mg] and [Si/Mg].\n",
        "\n",
        "This planet's radius is about 0.7 times that of Earth, which puts it in the range of likely rocky planets. In general, planets smaller than around 1.6 Earth radii are expected to have solid, rocky compositions without thick gas envelopes.\n",
        "\n",
        "The luminosity of TRAPPIST-1 is about 0.000522 times the Sun’s. Thus, the planet ends up receiving over four times the solar flux Earth gets, which indicated that it has a high surface temperature and atmosphere retention.\n",
        "\n",
        "The likely refractory composition of the star indicates that TRAPPIST-1e likely has a solid, rocky makeup. Using our estimated molar ratios of [Fe/Mg] and [Si/Mg] and known mass of 0.772 Earth masses for our planet, we have a known radius of 0.910 Earth radii and density of 1.024 Earth density. We will continue our analysis, but it is important to note there will be varied results given the uncertainties in the measured mass of (+0.026, -0.027) Earth masses. Small variations in this value create large discrepencies when trying to replicate this planet using ExoPlex.\n",
        "\n",
        "We will now create a function that will try and determine the values for mol_frac_Fe_mantle, wt_frac_Si_core, wt_frac_O_core, and wt_frac_S_core create a planet that reflects our desired radius and density."
      ],
      "metadata": {
        "id": "nKK4CQB_d1mu"
      }
    },
    {
      "cell_type": "code",
      "source": [
        "## Prepare for analysis\n",
        "\n",
        "# Function to calculate density\n",
        "def calculate_earth_density(mass_earth_masses, radius_earth_radii):\n",
        "    volume = radius_earth_radii ** 3  # Volume scales with cube of radius\n",
        "    density = mass_earth_masses / volume  # Density = mass / volume\n",
        "    return density\n",
        "\n",
        "# Mass and radius of TRAPPIST-1 e\n",
        "radius = 0.910                      # in R_earth\n",
        "mass = 0.772                        # in M_earth\n",
        "radius_kg = radius * const.R_earth  # in kg\n",
        "mass_kg = mass * const.M_earth      # in kg\n",
        "density = calculate_earth_density(mass, radius)  # in Earth density"
      ],
      "metadata": {
        "id": "zw4l428fjlXf"
      },
      "execution_count": 78,
      "outputs": []
    },
    {
      "cell_type": "markdown",
      "source": [
        "*Our most realistic parameters:*"
      ],
      "metadata": {
        "id": "LuuvRX9OPJyj"
      }
    },
    {
      "cell_type": "code",
      "source": [
        "!python Group_X.py --mass=0.772 --FeMg=1.361 --SiMg=0.977 --mol_frac_Fe_mantle=0.15 --wt_frac_Si_core=0.015 --wt_frac_O_core=0.01 --wt_frac_S_core=0.025"
      ],
      "metadata": {
        "colab": {
          "base_uri": "https://localhost:8080/"
        },
        "id": "NOoHIjnvVrIN",
        "outputId": "efce62ba-0c63-4e12-924d-1804099507e5"
      },
      "execution_count": 274,
      "outputs": [
        {
          "output_type": "stream",
          "name": "stdout",
          "text": [
            "\n",
            "Core composition:  {'Fe': np.float64(95.0), 'Si': np.float64(1.5), 'O': np.float64(1.0), 'S': np.float64(2.5)}\n",
            "Mantle composition:  {'FeO': np.float64(5.04424717), 'SiO2': np.float64(50.84950794), 'MgO': np.float64(36.41448739), 'CaO': np.float64(3.54647477), 'Al2O3': np.float64(4.14528274)}\n",
            "Mantle Fe# 0.0721089940105226\n",
            "Core Mass Percent =  40.531\n",
            "\n",
            "Your closest grid filename is:  0.07CaMg_0.00FeMg_0.09AlMg_0.9SiMg_0.0NaMg_0.06Fe_U/LM_results.txt\n",
            "\n",
            "\n",
            "Core composition:  {'Fe': np.float64(95.0), 'Si': np.float64(1.5), 'O': np.float64(1.0), 'S': np.float64(2.5)}\n",
            "Mantle composition:  {'FeO': np.float64(5.04424717), 'SiO2': np.float64(50.84950794), 'MgO': np.float64(36.41448739), 'CaO': np.float64(3.54647477), 'Al2O3': np.float64(4.14528274)}\n",
            "Mantle Fe# 0.0721089940105226\n",
            "Core Mass Percent =  40.531\n",
            "\n",
            "The Upper mantle .tab already exists, please wait briefly for solution\n",
            "\n",
            "../Solutions_Small/0.07CaMg_0.00FeMg_0.09AlMg_0.9SiMg_0.0NaMg_0.06Fe\n",
            "The Lower mantle .tab already exists, please wait briefly for solution\n",
            "\n",
            "iteration # 1\n",
            "iteration # 2\n",
            "iteration # 3\n",
            "iteration # 4\n",
            "iteration # 5\n",
            "iteration # 6\n",
            "iteration # 7\n",
            "iteration # 8\n",
            "iteration # 9\n",
            "iteration # 10\n",
            "iteration # 11\n",
            "iteration # 12\n",
            "iteration # 13\n",
            "iteration # 14\n",
            "\n",
            "Mass =  0.772 Earth masses\n",
            "Radius =  0.910 Earth radii\n",
            "Core Mass Fraction =  40.65\n",
            "Core Radius Fraction =  59.65\n",
            "CMB Pressure =  100.00 GPa\n",
            "number of oceans: 0.00\n",
            "\n",
            "Detailed data file written to: high_wFEO_Radius_0.91.txt\n",
            "\n",
            "Figure(1200x1000)\n"
          ]
        }
      ]
    },
    {
      "cell_type": "markdown",
      "source": [
        "### **Results**\n",
        "\n",
        "| Radius (R🜨) | Mass (M🜨) | Density (ρ/ρ🜨) | [Fe/Mg] | [Si/Mg] | FeO (mantle) | Si (core) | O (core) | S (core) | Mantle Composition (%) |\n",
        "|-------------|-----------|----------------|--------|--------|--------------|-----------|----------|----------|----------------------|\n",
        "| 0.910        | 0.772      | 1.024           | 1.300    | 0.977    | 0         | 0      | 0     | 0     | SiO₂=54.6<br>MgO=37.5<br>CaO=3.7<br>Al₂O₃=4.3           |\n",
        "| 0.935        | 0.772      | 0.944           | 0.832    | 0.977    | 0.15         | 0.03      | 0     | 0.01     | SiO₂=50.3<br>MgO=36.2<br>CaO=3.5<br>Al₂O₃=4.1           |\n",
        "| 0.934        | 0.772      | 0.947           | 0.832    | 0.977    | 0         | 0      | 0     | 0     | SiO₂=54.6<br>MgO=37.5<br>CaO=3.7<br>Al₂O₃=4.3           |\n",
        "| 0.935        | 0.772      | 0.944           | 0.832    | 0.977    | 0.15         | 0.05      | 0     | 0.03     | SiO₂=47.8<br>MgO=35.5<br>CaO=3.5<br>Al₂O₃=4.1           |\n",
        "| 0.923        | 0.772      | 0.982           | 1.023    | 0.977    | 0.12         | 0.005      | 0     | 0.035     | SiO₂=53.6<br>MgO=37.2<br>CaO=3.6<br>Al₂O₃=4.2           |\n",
        "| 0.910        | 0.772      | 1.024           | 1.160    | 0.670    | 0.2         | 0.03      | 0     | 0.05     | SiO₂=53.6<br>MgO=37.2<br>CaO=3.6<br>Al₂O₃=4.2           |\n",
        "| 0.910        | 0.772      | 1.024           | 1.361    | 0.977    | 0.15         | 0.015     | 0.01     | 0.025     | SiO₂=50.8<br>MgO=36.4<br>CaO=3.5<br>Al₂O₃=4.1          |\n"
      ],
      "metadata": {
        "id": "EUnADT59yyMJ"
      }
    },
    {
      "cell_type": "markdown",
      "source": [
        "There is no combination of parameters that would decrease our estimated radius to 0.91 Earth radii, our known radius, without increasing our [Fe/Mg] value, which indicates that TRAPPIST-1e has a very iron-abundant core.\n",
        "\n",
        "We can also show a few iterations using our estimated [Fe/Mg] value of 0.832 that would give us radii close to 0.91 Earth radii; these estimated radii will fall within the known uncertainty bounds of our exoplanet: (+0.026, -0.027). As we can see from the rows 2-4, we cannot estimate a radius of less than 0.935 Earth radii and a [Fe/Mg] ratio of 0.832, no matter the combination of parameters.\n",
        "\n",
        "We can do a combination of parameter adjustments and increase our [Fe/Mg] ratio within a reasonable amount (lower end of the spread of probable [X/Fe] ratios from Figure 3 in Griffiths et al. 2020) and then adjust our parameters as indicated in the chart and obtain an estimated radius of 0.923 Earth radii and density of 0.982 Earth densities.\n",
        "\n",
        "Many studies [like this one](https://www.aanda.org/articles/aa/pdf/2018/05/aa32233-17.pdf) indicate that TRAPPIST-1e cannot accommodate a Hydrogen-dominated atmosphere, so the issue is not due to a lack of atmosphere (and if there was an atmosphere, it would likely be a thick, Earth-like atmosphere). Thus, our issue is the fact that our core is too light. To fix this, we can increase our [Fe/Mg] ratio, decrease our [Si/Mg] ratio, increase FeO in the mantle, increase Si and S in the core and decrease O, or some combination of all of the above. Thus, we have a dense planet, similar to Earths, with a lot of heavy materials within its core. We tried to increase the abundance of Fe within the core and mantle as much as possible.\n",
        "\n",
        "The parameters of our most realistic simulated planet is as follows:\n",
        "* Mass = 0.772\n",
        "* [Fe/Mg] = 1.361\n",
        "* [Si/Mg] = 0.977\n",
        "* mol_frac_Fe_mantle = 0.15\n",
        "* wt_frac_Si_core = 0.015\n",
        "* wt_frac_O_core = 0.005\n",
        "* wt_frac_S_core = 0.025\n",
        "\n",
        "which gave us an estimated radius of 0.910 Earth radii and a density of 1.024 Earth densities, which is equal to our known values."
      ],
      "metadata": {
        "id": "wiDOSJ8G1lna"
      }
    },
    {
      "cell_type": "markdown",
      "source": [
        "*Mantle minerology of Earth:*"
      ],
      "metadata": {
        "id": "581JyFvJPa_p"
      }
    },
    {
      "cell_type": "code",
      "source": [
        "!python Group_X.py"
      ],
      "metadata": {
        "colab": {
          "base_uri": "https://localhost:8080/"
        },
        "id": "tqyfCP5RL0z1",
        "outputId": "de36525c-8a5d-4e77-ade6-6e26e1e68276"
      },
      "execution_count": 254,
      "outputs": [
        {
          "output_type": "stream",
          "name": "stdout",
          "text": [
            "\n",
            "Core composition:  {'Fe': np.float64(100.0), 'Si': np.float64(0.0), 'O': np.float64(0.0), 'S': np.float64(0.0)}\n",
            "Mantle composition:  {'FeO': np.float64(0.0), 'SiO2': np.float64(52.55497015), 'MgO': np.float64(39.17101638), 'CaO': np.float64(3.81493827), 'Al2O3': np.float64(4.45907521)}\n",
            "Mantle Fe# -0.0\n",
            "Core Mass Percent =  32.816\n",
            "\n",
            "Your closest grid filename is:  0.07CaMg_0.00FeMg_0.09AlMg_0.9SiMg_0.0NaMg_0.00Fe_U/LM_results.txt\n",
            "\n",
            "\n",
            "Core composition:  {'Fe': np.float64(100.0), 'Si': np.float64(0.0), 'O': np.float64(0.0), 'S': np.float64(0.0)}\n",
            "Mantle composition:  {'FeO': np.float64(0.0), 'SiO2': np.float64(52.55497015), 'MgO': np.float64(39.17101638), 'CaO': np.float64(3.81493827), 'Al2O3': np.float64(4.45907521)}\n",
            "Mantle Fe# -0.0\n",
            "Core Mass Percent =  32.816\n",
            "\n",
            "The Upper mantle .tab already exists, please wait briefly for solution\n",
            "\n",
            "../Solutions_Small/0.07CaMg_0.00FeMg_0.09AlMg_0.9SiMg_0.0NaMg_0.00Fe\n",
            "The Lower mantle .tab already exists, please wait briefly for solution\n",
            "\n",
            "iteration # 1\n",
            "iteration # 2\n",
            "iteration # 3\n",
            "iteration # 4\n",
            "iteration # 5\n",
            "iteration # 6\n",
            "iteration # 7\n",
            "iteration # 8\n",
            "iteration # 9\n",
            "iteration # 10\n",
            "iteration # 11\n",
            "iteration # 12\n",
            "iteration # 13\n",
            "iteration # 14\n",
            "iteration # 15\n",
            "\n",
            "Mass =  1.000 Earth masses\n",
            "Radius =  0.999 Earth radii\n",
            "Core Mass Fraction =  32.95\n",
            "Core Radius Fraction =  53.02\n",
            "CMB Pressure =  141.56 GPa\n",
            "number of oceans: 0.00\n",
            "\n",
            "Detailed data file written to: high_wFEO_Radius_1.00.txt\n",
            "\n",
            "Figure(1200x1000)\n"
          ]
        }
      ]
    },
    {
      "cell_type": "markdown",
      "source": [
        "| Mantle Minerology       | TRAPPIST-1e (%) | Earth (%) |\n",
        "|-------------------------|-----------------|-----------|\n",
        "| **Fe**                  | 0.07            | 0         |\n",
        "| **FeO**                 | 5.04            | 0         |\n",
        "| **SiO₂**                | 50.8            | 52.5      |\n",
        "| **MgO**                 | 36.4            | 39.2      |\n",
        "| **CaO**                 | 3.5             | 3.8       |\n",
        "| **Al₂O₃**               | 4.1             | 4.5       |\n",
        "\n",
        "Here, we can see the differences between the mantle minerology of TRAPPIST-1e and Earth. For the most part, these values are quite similar. This is because they have nearly identical densities. The main difference is iron, which can be found in the mantle of TRAPPIST-1e, but is solely within the core of Earth, according to ExoPlex. That being said, there are hundreds of combinations of parameters that would lead to similar results, and there is a lot of uncertainty when it comes to the 'known' mass and radius estimates. We can, however, conclude that TRAPPIST-1e is similar in terms of composition to the Earth, and has a very heavy core (high abundance of iron and other heavy elements)."
      ],
      "metadata": {
        "id": "Yu5Zvky7Pkh7"
      }
    }
  ],
  "metadata": {
    "colab": {
      "provenance": []
    },
    "kernelspec": {
      "display_name": "Python 3",
      "name": "python3"
    },
    "language_info": {
      "name": "python"
    }
  },
  "nbformat": 4,
  "nbformat_minor": 0
}
